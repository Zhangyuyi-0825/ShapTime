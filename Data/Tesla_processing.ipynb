{
 "cells": [
  {
   "cell_type": "code",
   "execution_count": 1,
   "id": "567292ab",
   "metadata": {},
   "outputs": [],
   "source": [
    "import numpy as np\n",
    "import pandas as pd\n",
    "import math\n",
    "\n",
    "import matplotlib.pyplot as plt\n",
    "import seaborn as sns\n",
    "from sklearn.preprocessing import MinMaxScaler\n",
    "from sklearn.metrics import mean_squared_error, r2_score\n",
    "\n",
    "\n",
    "import warnings\n",
    "warnings.filterwarnings('ignore')"
   ]
  },
  {
   "cell_type": "code",
   "execution_count": 2,
   "id": "74ac5f4a",
   "metadata": {},
   "outputs": [],
   "source": [
    "data = pd.read_csv('D:/Papers/paper_code/new/Data/Raw/Tesla_Stock_data.csv')"
   ]
  },
  {
   "cell_type": "code",
   "execution_count": 3,
   "id": "16858245",
   "metadata": {},
   "outputs": [
    {
     "data": {
      "text/html": [
       "<div>\n",
       "<style scoped>\n",
       "    .dataframe tbody tr th:only-of-type {\n",
       "        vertical-align: middle;\n",
       "    }\n",
       "\n",
       "    .dataframe tbody tr th {\n",
       "        vertical-align: top;\n",
       "    }\n",
       "\n",
       "    .dataframe thead th {\n",
       "        text-align: right;\n",
       "    }\n",
       "</style>\n",
       "<table border=\"1\" class=\"dataframe\">\n",
       "  <thead>\n",
       "    <tr style=\"text-align: right;\">\n",
       "      <th></th>\n",
       "      <th>Date</th>\n",
       "      <th>Open</th>\n",
       "      <th>High</th>\n",
       "      <th>Low</th>\n",
       "      <th>Close</th>\n",
       "      <th>Adj Close</th>\n",
       "      <th>Volume</th>\n",
       "    </tr>\n",
       "  </thead>\n",
       "  <tbody>\n",
       "    <tr>\n",
       "      <th>0</th>\n",
       "      <td>2010-06-29</td>\n",
       "      <td>1.266667</td>\n",
       "      <td>1.666667</td>\n",
       "      <td>1.169333</td>\n",
       "      <td>1.592667</td>\n",
       "      <td>1.592667</td>\n",
       "      <td>281494500</td>\n",
       "    </tr>\n",
       "    <tr>\n",
       "      <th>1</th>\n",
       "      <td>2010-06-30</td>\n",
       "      <td>1.719333</td>\n",
       "      <td>2.028000</td>\n",
       "      <td>1.553333</td>\n",
       "      <td>1.588667</td>\n",
       "      <td>1.588667</td>\n",
       "      <td>257806500</td>\n",
       "    </tr>\n",
       "    <tr>\n",
       "      <th>2</th>\n",
       "      <td>2010-07-01</td>\n",
       "      <td>1.666667</td>\n",
       "      <td>1.728000</td>\n",
       "      <td>1.351333</td>\n",
       "      <td>1.464000</td>\n",
       "      <td>1.464000</td>\n",
       "      <td>123282000</td>\n",
       "    </tr>\n",
       "  </tbody>\n",
       "</table>\n",
       "</div>"
      ],
      "text/plain": [
       "         Date      Open      High       Low     Close  Adj Close     Volume\n",
       "0  2010-06-29  1.266667  1.666667  1.169333  1.592667   1.592667  281494500\n",
       "1  2010-06-30  1.719333  2.028000  1.553333  1.588667   1.588667  257806500\n",
       "2  2010-07-01  1.666667  1.728000  1.351333  1.464000   1.464000  123282000"
      ]
     },
     "execution_count": 3,
     "metadata": {},
     "output_type": "execute_result"
    }
   ],
   "source": [
    "data.head(3)"
   ]
  },
  {
   "cell_type": "code",
   "execution_count": 4,
   "id": "a3b158f9",
   "metadata": {},
   "outputs": [
    {
     "data": {
      "text/plain": [
       "(3143, 7)"
      ]
     },
     "execution_count": 4,
     "metadata": {},
     "output_type": "execute_result"
    }
   ],
   "source": [
    "data.shape"
   ]
  },
  {
   "cell_type": "code",
   "execution_count": 5,
   "id": "4a710015",
   "metadata": {},
   "outputs": [],
   "source": [
    "lag_n = 3"
   ]
  },
  {
   "cell_type": "code",
   "execution_count": 6,
   "id": "8623fde5",
   "metadata": {},
   "outputs": [
    {
     "data": {
      "text/html": [
       "<div>\n",
       "<style scoped>\n",
       "    .dataframe tbody tr th:only-of-type {\n",
       "        vertical-align: middle;\n",
       "    }\n",
       "\n",
       "    .dataframe tbody tr th {\n",
       "        vertical-align: top;\n",
       "    }\n",
       "\n",
       "    .dataframe thead th {\n",
       "        text-align: right;\n",
       "    }\n",
       "</style>\n",
       "<table border=\"1\" class=\"dataframe\">\n",
       "  <thead>\n",
       "    <tr style=\"text-align: right;\">\n",
       "      <th></th>\n",
       "      <th>Date</th>\n",
       "      <th>Close</th>\n",
       "      <th>lag_O</th>\n",
       "      <th>lag_H</th>\n",
       "      <th>lag_L</th>\n",
       "      <th>lag_C</th>\n",
       "      <th>lag_A</th>\n",
       "    </tr>\n",
       "  </thead>\n",
       "  <tbody>\n",
       "    <tr>\n",
       "      <th>0</th>\n",
       "      <td>2010-07-02</td>\n",
       "      <td>1.280000</td>\n",
       "      <td>1.266667</td>\n",
       "      <td>1.666667</td>\n",
       "      <td>1.169333</td>\n",
       "      <td>1.592667</td>\n",
       "      <td>1.592667</td>\n",
       "    </tr>\n",
       "    <tr>\n",
       "      <th>1</th>\n",
       "      <td>2010-07-06</td>\n",
       "      <td>1.074000</td>\n",
       "      <td>1.719333</td>\n",
       "      <td>2.028000</td>\n",
       "      <td>1.553333</td>\n",
       "      <td>1.588667</td>\n",
       "      <td>1.588667</td>\n",
       "    </tr>\n",
       "    <tr>\n",
       "      <th>2</th>\n",
       "      <td>2010-07-07</td>\n",
       "      <td>1.053333</td>\n",
       "      <td>1.666667</td>\n",
       "      <td>1.728000</td>\n",
       "      <td>1.351333</td>\n",
       "      <td>1.464000</td>\n",
       "      <td>1.464000</td>\n",
       "    </tr>\n",
       "  </tbody>\n",
       "</table>\n",
       "</div>"
      ],
      "text/plain": [
       "         Date     Close     lag_O     lag_H     lag_L     lag_C     lag_A\n",
       "0  2010-07-02  1.280000  1.266667  1.666667  1.169333  1.592667  1.592667\n",
       "1  2010-07-06  1.074000  1.719333  2.028000  1.553333  1.588667  1.588667\n",
       "2  2010-07-07  1.053333  1.666667  1.728000  1.351333  1.464000  1.464000"
      ]
     },
     "execution_count": 6,
     "metadata": {},
     "output_type": "execute_result"
    }
   ],
   "source": [
    "data['lag_O'] = data[data.columns[1]].shift(lag_n)\n",
    "data['lag_H'] = data[data.columns[2]].shift(lag_n)\n",
    "data['lag_L'] = data[data.columns[3]].shift(lag_n)\n",
    "data['lag_C'] = data[data.columns[4]].shift(lag_n)\n",
    "data['lag_A'] = data[data.columns[5]].shift(lag_n)\n",
    "data = data.dropna(axis = 0, how = 'any')\n",
    "data.reset_index(drop = True, inplace = True)\n",
    "data.drop(columns = {'Open', 'High', 'Low', 'Adj Close', 'Volume'}, inplace = True)\n",
    "data.head(3)"
   ]
  },
  {
   "cell_type": "code",
   "execution_count": 7,
   "id": "26b195c6",
   "metadata": {},
   "outputs": [],
   "source": [
    "def time_features(df, date_columns):\n",
    "    \n",
    "    df['Year'] = pd.to_datetime(df[date_columns]).dt.year\n",
    "    df['Month'] = pd.to_datetime(df[date_columns]).dt.month\n",
    "    df['Day'] = pd.to_datetime(df[date_columns]).dt.day\n",
    "    df['Weekday'] = pd.to_datetime(df[date_columns]).dt.weekday\n",
    "    \n",
    "    return df\n",
    "\n",
    "data = time_features(data, 'Date')"
   ]
  },
  {
   "cell_type": "code",
   "execution_count": 8,
   "id": "e750212f",
   "metadata": {},
   "outputs": [
    {
     "data": {
      "text/plain": [
       "Index(['Date', 'Close', 'lag_O', 'lag_H', 'lag_L', 'lag_C', 'lag_A', 'Year',\n",
       "       'Month', 'Day', 'Weekday'],\n",
       "      dtype='object')"
      ]
     },
     "execution_count": 8,
     "metadata": {},
     "output_type": "execute_result"
    }
   ],
   "source": [
    "data.columns"
   ]
  },
  {
   "cell_type": "code",
   "execution_count": 9,
   "id": "83a351b4",
   "metadata": {},
   "outputs": [],
   "source": [
    "columns ={'Close', 'lag_O', 'lag_H', 'lag_L', 'lag_C', 'lag_A',\n",
    "       'Year', 'Month', 'Day', 'Weekday'}\n",
    "\n",
    "def minmax(data):\n",
    "    for col in columns:\n",
    "        scaler = MinMaxScaler(feature_range = (0,1))\n",
    "        data[col] = scaler.fit_transform(data[col].values.reshape(-1,1))\n",
    "    return data\n",
    "\n",
    "Tesla_data = minmax(data)"
   ]
  },
  {
   "cell_type": "code",
   "execution_count": 10,
   "id": "ef81b8f9",
   "metadata": {},
   "outputs": [
    {
     "data": {
      "text/html": [
       "<div>\n",
       "<style scoped>\n",
       "    .dataframe tbody tr th:only-of-type {\n",
       "        vertical-align: middle;\n",
       "    }\n",
       "\n",
       "    .dataframe tbody tr th {\n",
       "        vertical-align: top;\n",
       "    }\n",
       "\n",
       "    .dataframe thead th {\n",
       "        text-align: right;\n",
       "    }\n",
       "</style>\n",
       "<table border=\"1\" class=\"dataframe\">\n",
       "  <thead>\n",
       "    <tr style=\"text-align: right;\">\n",
       "      <th></th>\n",
       "      <th>Date</th>\n",
       "      <th>Close</th>\n",
       "      <th>lag_O</th>\n",
       "      <th>lag_H</th>\n",
       "      <th>lag_L</th>\n",
       "      <th>lag_C</th>\n",
       "      <th>lag_A</th>\n",
       "      <th>Year</th>\n",
       "      <th>Month</th>\n",
       "      <th>Day</th>\n",
       "      <th>Weekday</th>\n",
       "    </tr>\n",
       "  </thead>\n",
       "  <tbody>\n",
       "    <tr>\n",
       "      <th>0</th>\n",
       "      <td>2010-07-02</td>\n",
       "      <td>0.000554</td>\n",
       "      <td>0.000465</td>\n",
       "      <td>0.001350</td>\n",
       "      <td>0.000422</td>\n",
       "      <td>0.001319</td>\n",
       "      <td>0.001319</td>\n",
       "      <td>0.0</td>\n",
       "      <td>0.545455</td>\n",
       "      <td>0.033333</td>\n",
       "      <td>1.00</td>\n",
       "    </tr>\n",
       "    <tr>\n",
       "      <th>1</th>\n",
       "      <td>2010-07-06</td>\n",
       "      <td>0.000051</td>\n",
       "      <td>0.001568</td>\n",
       "      <td>0.002224</td>\n",
       "      <td>0.001371</td>\n",
       "      <td>0.001309</td>\n",
       "      <td>0.001309</td>\n",
       "      <td>0.0</td>\n",
       "      <td>0.545455</td>\n",
       "      <td>0.166667</td>\n",
       "      <td>0.25</td>\n",
       "    </tr>\n",
       "    <tr>\n",
       "      <th>2</th>\n",
       "      <td>2010-07-07</td>\n",
       "      <td>0.000000</td>\n",
       "      <td>0.001439</td>\n",
       "      <td>0.001498</td>\n",
       "      <td>0.000871</td>\n",
       "      <td>0.001004</td>\n",
       "      <td>0.001004</td>\n",
       "      <td>0.0</td>\n",
       "      <td>0.545455</td>\n",
       "      <td>0.200000</td>\n",
       "      <td>0.50</td>\n",
       "    </tr>\n",
       "  </tbody>\n",
       "</table>\n",
       "</div>"
      ],
      "text/plain": [
       "         Date     Close     lag_O     lag_H     lag_L     lag_C     lag_A  \\\n",
       "0  2010-07-02  0.000554  0.000465  0.001350  0.000422  0.001319  0.001319   \n",
       "1  2010-07-06  0.000051  0.001568  0.002224  0.001371  0.001309  0.001309   \n",
       "2  2010-07-07  0.000000  0.001439  0.001498  0.000871  0.001004  0.001004   \n",
       "\n",
       "   Year     Month       Day  Weekday  \n",
       "0   0.0  0.545455  0.033333     1.00  \n",
       "1   0.0  0.545455  0.166667     0.25  \n",
       "2   0.0  0.545455  0.200000     0.50  "
      ]
     },
     "execution_count": 10,
     "metadata": {},
     "output_type": "execute_result"
    }
   ],
   "source": [
    "Tesla_data.head(3)"
   ]
  },
  {
   "cell_type": "code",
   "execution_count": 11,
   "id": "711a5152",
   "metadata": {},
   "outputs": [],
   "source": [
    "#Tesla_data.to_csv('../Data/Processed/Tesla_data.csv', index = False)"
   ]
  },
  {
   "cell_type": "code",
   "execution_count": null,
   "id": "49b675c4",
   "metadata": {},
   "outputs": [],
   "source": []
  }
 ],
 "metadata": {
  "kernelspec": {
   "display_name": "Python 3 (ipykernel)",
   "language": "python",
   "name": "python3"
  },
  "language_info": {
   "codemirror_mode": {
    "name": "ipython",
    "version": 3
   },
   "file_extension": ".py",
   "mimetype": "text/x-python",
   "name": "python",
   "nbconvert_exporter": "python",
   "pygments_lexer": "ipython3",
   "version": "3.9.12"
  }
 },
 "nbformat": 4,
 "nbformat_minor": 5
}
