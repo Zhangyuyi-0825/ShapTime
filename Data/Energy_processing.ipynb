{
 "cells": [
  {
   "cell_type": "code",
   "execution_count": 1,
   "id": "32b465a4",
   "metadata": {},
   "outputs": [],
   "source": [
    "import numpy as np\n",
    "import pandas as pd\n",
    "\n",
    "import matplotlib.pyplot as plt\n",
    "import seaborn as sns\n",
    "from sklearn.preprocessing import MinMaxScaler\n",
    "\n",
    "import warnings\n",
    "warnings.filterwarnings('ignore')\n",
    "\n",
    "import os\n",
    "os.environ['KMP_DUPLICATE_LIB_OK']='True'"
   ]
  },
  {
   "cell_type": "code",
   "execution_count": 2,
   "id": "d7ff38c8",
   "metadata": {},
   "outputs": [],
   "source": [
    "data = pd.read_csv('..\\Data\\Raw\\Energy_Consumption_data.csv')\n",
    "data['Timestamp']= pd.to_datetime(data['Timestamp'],format='%Y-%m-%d %H:%M:%S')"
   ]
  },
  {
   "cell_type": "code",
   "execution_count": 3,
   "id": "ce801e13",
   "metadata": {},
   "outputs": [
    {
     "data": {
      "text/html": [
       "<div>\n",
       "<style scoped>\n",
       "    .dataframe tbody tr th:only-of-type {\n",
       "        vertical-align: middle;\n",
       "    }\n",
       "\n",
       "    .dataframe tbody tr th {\n",
       "        vertical-align: top;\n",
       "    }\n",
       "\n",
       "    .dataframe thead th {\n",
       "        text-align: right;\n",
       "    }\n",
       "</style>\n",
       "<table border=\"1\" class=\"dataframe\">\n",
       "  <thead>\n",
       "    <tr style=\"text-align: right;\">\n",
       "      <th></th>\n",
       "      <th>Timestamp</th>\n",
       "      <th>Temperature</th>\n",
       "      <th>Value</th>\n",
       "      <th>Year</th>\n",
       "      <th>Month</th>\n",
       "      <th>Day</th>\n",
       "      <th>Hour</th>\n",
       "      <th>Minute</th>\n",
       "      <th>timing</th>\n",
       "      <th>week_info</th>\n",
       "      <th>Holiday</th>\n",
       "    </tr>\n",
       "  </thead>\n",
       "  <tbody>\n",
       "    <tr>\n",
       "      <th>0</th>\n",
       "      <td>2016-01-02 02:15:00</td>\n",
       "      <td>5.425</td>\n",
       "      <td>32782.09614</td>\n",
       "      <td>2016</td>\n",
       "      <td>1</td>\n",
       "      <td>2</td>\n",
       "      <td>2</td>\n",
       "      <td>15</td>\n",
       "      <td>1</td>\n",
       "      <td>1</td>\n",
       "      <td>0</td>\n",
       "    </tr>\n",
       "    <tr>\n",
       "      <th>1</th>\n",
       "      <td>2016-01-02 02:30:00</td>\n",
       "      <td>5.350</td>\n",
       "      <td>31731.64203</td>\n",
       "      <td>2016</td>\n",
       "      <td>1</td>\n",
       "      <td>2</td>\n",
       "      <td>2</td>\n",
       "      <td>30</td>\n",
       "      <td>1</td>\n",
       "      <td>1</td>\n",
       "      <td>0</td>\n",
       "    </tr>\n",
       "    <tr>\n",
       "      <th>2</th>\n",
       "      <td>2016-01-02 02:45:00</td>\n",
       "      <td>5.275</td>\n",
       "      <td>31810.92158</td>\n",
       "      <td>2016</td>\n",
       "      <td>1</td>\n",
       "      <td>2</td>\n",
       "      <td>2</td>\n",
       "      <td>45</td>\n",
       "      <td>1</td>\n",
       "      <td>1</td>\n",
       "      <td>0</td>\n",
       "    </tr>\n",
       "  </tbody>\n",
       "</table>\n",
       "</div>"
      ],
      "text/plain": [
       "            Timestamp  Temperature        Value  Year  Month  Day  Hour  \\\n",
       "0 2016-01-02 02:15:00        5.425  32782.09614  2016      1    2     2   \n",
       "1 2016-01-02 02:30:00        5.350  31731.64203  2016      1    2     2   \n",
       "2 2016-01-02 02:45:00        5.275  31810.92158  2016      1    2     2   \n",
       "\n",
       "   Minute  timing  week_info  Holiday  \n",
       "0      15       1          1        0  \n",
       "1      30       1          1        0  \n",
       "2      45       1          1        0  "
      ]
     },
     "execution_count": 3,
     "metadata": {},
     "output_type": "execute_result"
    }
   ],
   "source": [
    "data.head(3)"
   ]
  },
  {
   "cell_type": "code",
   "execution_count": 4,
   "id": "d772bcee",
   "metadata": {},
   "outputs": [
    {
     "data": {
      "text/plain": [
       "(48096, 11)"
      ]
     },
     "execution_count": 4,
     "metadata": {},
     "output_type": "execute_result"
    }
   ],
   "source": [
    "data.shape"
   ]
  },
  {
   "cell_type": "code",
   "execution_count": 5,
   "id": "e9cbadcd",
   "metadata": {},
   "outputs": [],
   "source": [
    "data = data[-2500:]"
   ]
  },
  {
   "cell_type": "code",
   "execution_count": 6,
   "id": "adf95a94",
   "metadata": {},
   "outputs": [
    {
     "data": {
      "text/plain": [
       "(2500, 11)"
      ]
     },
     "execution_count": 6,
     "metadata": {},
     "output_type": "execute_result"
    }
   ],
   "source": [
    "data.shape"
   ]
  },
  {
   "cell_type": "code",
   "execution_count": 7,
   "id": "1d0a4123",
   "metadata": {},
   "outputs": [
    {
     "data": {
      "text/html": [
       "<div>\n",
       "<style scoped>\n",
       "    .dataframe tbody tr th:only-of-type {\n",
       "        vertical-align: middle;\n",
       "    }\n",
       "\n",
       "    .dataframe tbody tr th {\n",
       "        vertical-align: top;\n",
       "    }\n",
       "\n",
       "    .dataframe thead th {\n",
       "        text-align: right;\n",
       "    }\n",
       "</style>\n",
       "<table border=\"1\" class=\"dataframe\">\n",
       "  <thead>\n",
       "    <tr style=\"text-align: right;\">\n",
       "      <th></th>\n",
       "      <th>Timestamp</th>\n",
       "      <th>Temperature</th>\n",
       "      <th>Value</th>\n",
       "      <th>Year</th>\n",
       "      <th>Month</th>\n",
       "      <th>Day</th>\n",
       "      <th>Hour</th>\n",
       "      <th>Minute</th>\n",
       "      <th>timing</th>\n",
       "      <th>week_info</th>\n",
       "      <th>Holiday</th>\n",
       "      <th>lag_tem</th>\n",
       "      <th>lag_value</th>\n",
       "    </tr>\n",
       "  </thead>\n",
       "  <tbody>\n",
       "    <tr>\n",
       "      <th>0</th>\n",
       "      <td>2017-07-25 03:15:00</td>\n",
       "      <td>14.23750</td>\n",
       "      <td>23783.86660</td>\n",
       "      <td>2017</td>\n",
       "      <td>7</td>\n",
       "      <td>25</td>\n",
       "      <td>3</td>\n",
       "      <td>15</td>\n",
       "      <td>1</td>\n",
       "      <td>0</td>\n",
       "      <td>0</td>\n",
       "      <td>18.1625</td>\n",
       "      <td>25765.85549</td>\n",
       "    </tr>\n",
       "    <tr>\n",
       "      <th>1</th>\n",
       "      <td>2017-07-25 03:30:00</td>\n",
       "      <td>14.22500</td>\n",
       "      <td>27747.84437</td>\n",
       "      <td>2017</td>\n",
       "      <td>7</td>\n",
       "      <td>25</td>\n",
       "      <td>3</td>\n",
       "      <td>30</td>\n",
       "      <td>1</td>\n",
       "      <td>0</td>\n",
       "      <td>0</td>\n",
       "      <td>17.7000</td>\n",
       "      <td>23783.86660</td>\n",
       "    </tr>\n",
       "    <tr>\n",
       "      <th>2</th>\n",
       "      <td>2017-07-25 03:45:00</td>\n",
       "      <td>14.21250</td>\n",
       "      <td>25765.85549</td>\n",
       "      <td>2017</td>\n",
       "      <td>7</td>\n",
       "      <td>25</td>\n",
       "      <td>3</td>\n",
       "      <td>45</td>\n",
       "      <td>1</td>\n",
       "      <td>0</td>\n",
       "      <td>0</td>\n",
       "      <td>17.2375</td>\n",
       "      <td>25765.85549</td>\n",
       "    </tr>\n",
       "    <tr>\n",
       "      <th>3</th>\n",
       "      <td>2017-07-25 04:00:00</td>\n",
       "      <td>14.20000</td>\n",
       "      <td>27747.84437</td>\n",
       "      <td>2017</td>\n",
       "      <td>7</td>\n",
       "      <td>25</td>\n",
       "      <td>4</td>\n",
       "      <td>0</td>\n",
       "      <td>2</td>\n",
       "      <td>0</td>\n",
       "      <td>0</td>\n",
       "      <td>16.7750</td>\n",
       "      <td>23783.86660</td>\n",
       "    </tr>\n",
       "    <tr>\n",
       "      <th>4</th>\n",
       "      <td>2017-07-25 04:15:00</td>\n",
       "      <td>14.18125</td>\n",
       "      <td>25765.85549</td>\n",
       "      <td>2017</td>\n",
       "      <td>7</td>\n",
       "      <td>25</td>\n",
       "      <td>4</td>\n",
       "      <td>15</td>\n",
       "      <td>2</td>\n",
       "      <td>0</td>\n",
       "      <td>0</td>\n",
       "      <td>16.7625</td>\n",
       "      <td>25765.85549</td>\n",
       "    </tr>\n",
       "  </tbody>\n",
       "</table>\n",
       "</div>"
      ],
      "text/plain": [
       "            Timestamp  Temperature        Value  Year  Month  Day  Hour  \\\n",
       "0 2017-07-25 03:15:00     14.23750  23783.86660  2017      7   25     3   \n",
       "1 2017-07-25 03:30:00     14.22500  27747.84437  2017      7   25     3   \n",
       "2 2017-07-25 03:45:00     14.21250  25765.85549  2017      7   25     3   \n",
       "3 2017-07-25 04:00:00     14.20000  27747.84437  2017      7   25     4   \n",
       "4 2017-07-25 04:15:00     14.18125  25765.85549  2017      7   25     4   \n",
       "\n",
       "   Minute  timing  week_info  Holiday  lag_tem    lag_value  \n",
       "0      15       1          0        0  18.1625  25765.85549  \n",
       "1      30       1          0        0  17.7000  23783.86660  \n",
       "2      45       1          0        0  17.2375  25765.85549  \n",
       "3       0       2          0        0  16.7750  23783.86660  \n",
       "4      15       2          0        0  16.7625  25765.85549  "
      ]
     },
     "execution_count": 7,
     "metadata": {},
     "output_type": "execute_result"
    }
   ],
   "source": [
    "data['lag_tem'] = data[data.columns[1]].shift(96)\n",
    "data['lag_value'] = data[data.columns[2]].shift(96)\n",
    "data = data.dropna(axis = 0, how = 'any')\n",
    "data.reset_index(drop = True, inplace = True)\n",
    "data.head()"
   ]
  },
  {
   "cell_type": "code",
   "execution_count": 8,
   "id": "59781b50",
   "metadata": {},
   "outputs": [],
   "source": [
    "Energy_data = data.drop(columns = {'Temperature'})"
   ]
  },
  {
   "cell_type": "code",
   "execution_count": 9,
   "id": "81d60656",
   "metadata": {},
   "outputs": [
    {
     "data": {
      "text/html": [
       "<div>\n",
       "<style scoped>\n",
       "    .dataframe tbody tr th:only-of-type {\n",
       "        vertical-align: middle;\n",
       "    }\n",
       "\n",
       "    .dataframe tbody tr th {\n",
       "        vertical-align: top;\n",
       "    }\n",
       "\n",
       "    .dataframe thead th {\n",
       "        text-align: right;\n",
       "    }\n",
       "</style>\n",
       "<table border=\"1\" class=\"dataframe\">\n",
       "  <thead>\n",
       "    <tr style=\"text-align: right;\">\n",
       "      <th></th>\n",
       "      <th>Timestamp</th>\n",
       "      <th>Value</th>\n",
       "      <th>Year</th>\n",
       "      <th>Month</th>\n",
       "      <th>Day</th>\n",
       "      <th>Hour</th>\n",
       "      <th>Minute</th>\n",
       "      <th>timing</th>\n",
       "      <th>week_info</th>\n",
       "      <th>Holiday</th>\n",
       "      <th>lag_tem</th>\n",
       "      <th>lag_value</th>\n",
       "    </tr>\n",
       "  </thead>\n",
       "  <tbody>\n",
       "    <tr>\n",
       "      <th>0</th>\n",
       "      <td>2017-07-25 03:15:00</td>\n",
       "      <td>23783.86660</td>\n",
       "      <td>2017</td>\n",
       "      <td>7</td>\n",
       "      <td>25</td>\n",
       "      <td>3</td>\n",
       "      <td>15</td>\n",
       "      <td>1</td>\n",
       "      <td>0</td>\n",
       "      <td>0</td>\n",
       "      <td>18.1625</td>\n",
       "      <td>25765.85549</td>\n",
       "    </tr>\n",
       "    <tr>\n",
       "      <th>1</th>\n",
       "      <td>2017-07-25 03:30:00</td>\n",
       "      <td>27747.84437</td>\n",
       "      <td>2017</td>\n",
       "      <td>7</td>\n",
       "      <td>25</td>\n",
       "      <td>3</td>\n",
       "      <td>30</td>\n",
       "      <td>1</td>\n",
       "      <td>0</td>\n",
       "      <td>0</td>\n",
       "      <td>17.7000</td>\n",
       "      <td>23783.86660</td>\n",
       "    </tr>\n",
       "    <tr>\n",
       "      <th>2</th>\n",
       "      <td>2017-07-25 03:45:00</td>\n",
       "      <td>25765.85549</td>\n",
       "      <td>2017</td>\n",
       "      <td>7</td>\n",
       "      <td>25</td>\n",
       "      <td>3</td>\n",
       "      <td>45</td>\n",
       "      <td>1</td>\n",
       "      <td>0</td>\n",
       "      <td>0</td>\n",
       "      <td>17.2375</td>\n",
       "      <td>25765.85549</td>\n",
       "    </tr>\n",
       "  </tbody>\n",
       "</table>\n",
       "</div>"
      ],
      "text/plain": [
       "            Timestamp        Value  Year  Month  Day  Hour  Minute  timing  \\\n",
       "0 2017-07-25 03:15:00  23783.86660  2017      7   25     3      15       1   \n",
       "1 2017-07-25 03:30:00  27747.84437  2017      7   25     3      30       1   \n",
       "2 2017-07-25 03:45:00  25765.85549  2017      7   25     3      45       1   \n",
       "\n",
       "   week_info  Holiday  lag_tem    lag_value  \n",
       "0          0        0  18.1625  25765.85549  \n",
       "1          0        0  17.7000  23783.86660  \n",
       "2          0        0  17.2375  25765.85549  "
      ]
     },
     "execution_count": 9,
     "metadata": {},
     "output_type": "execute_result"
    }
   ],
   "source": [
    "Energy_data.head(3)"
   ]
  },
  {
   "cell_type": "code",
   "execution_count": 10,
   "id": "349c722a",
   "metadata": {},
   "outputs": [
    {
     "data": {
      "text/plain": [
       "Index(['Timestamp', 'Value', 'Year', 'Month', 'Day', 'Hour', 'Minute',\n",
       "       'timing', 'week_info', 'Holiday', 'lag_tem', 'lag_value'],\n",
       "      dtype='object')"
      ]
     },
     "execution_count": 10,
     "metadata": {},
     "output_type": "execute_result"
    }
   ],
   "source": [
    "Energy_data.columns"
   ]
  },
  {
   "cell_type": "code",
   "execution_count": 11,
   "id": "c06f7c8b",
   "metadata": {},
   "outputs": [],
   "source": [
    "#data normalization\n",
    "columns = {'Value', 'Year', 'Month', 'Day', 'Hour', 'Minute',\n",
    "       'timing', 'week_info', 'Holiday', 'lag_tem', 'lag_value'}\n",
    "\n",
    "for col in columns:\n",
    "    scaler = MinMaxScaler()\n",
    "    Energy_data[col] = scaler.fit_transform(Energy_data[col].values.reshape(-1,1))"
   ]
  },
  {
   "cell_type": "code",
   "execution_count": 12,
   "id": "545e4863",
   "metadata": {},
   "outputs": [
    {
     "data": {
      "image/png": "[encoded data removed]",
      "text/plain": [
       "<Figure size 1440x288 with 1 Axes>"
      ]
     },
     "metadata": {
      "needs_background": "light"
     },
     "output_type": "display_data"
    }
   ],
   "source": [
    "sns.reset_orig()\n",
    "plt.figure(figsize = (20,4))\n",
    "plt.title('Target: Value')\n",
    "plt.plot(Energy_data['Value'])\n",
    "plt.show()"
   ]
  },
  {
   "cell_type": "code",
   "execution_count": null,
   "id": "3c075451",
   "metadata": {},
   "outputs": [],
   "source": []
  },
  {
   "cell_type": "code",
   "execution_count": 13,
   "id": "7176226b",
   "metadata": {},
   "outputs": [],
   "source": [
    "#Energy_data.to_csv('..\\Data\\Processed\\Energy_data.csv', index = False)"
   ]
  },
  {
   "cell_type": "code",
   "execution_count": null,
   "id": "8dcec480",
   "metadata": {},
   "outputs": [],
   "source": []
  },
  {
   "cell_type": "code",
   "execution_count": null,
   "id": "e721566b",
   "metadata": {},
   "outputs": [],
   "source": []
  }
 ],
 "metadata": {
  "kernelspec": {
   "display_name": "Python 3 (ipykernel)",
   "language": "python",
   "name": "python3"
  },
  "language_info": {
   "codemirror_mode": {
    "name": "ipython",
    "version": 3
   },
   "file_extension": ".py",
   "mimetype": "text/x-python",
   "name": "python",
   "nbconvert_exporter": "python",
   "pygments_lexer": "ipython3",
   "version": "3.9.12"
  }
 },
 "nbformat": 4,
 "nbformat_minor": 5
}
